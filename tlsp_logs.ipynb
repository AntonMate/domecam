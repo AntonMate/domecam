{
 "cells": [
  {
   "cell_type": "code",
   "execution_count": 93,
   "id": "02e9992c",
   "metadata": {},
   "outputs": [
    {
     "name": "stdout",
     "output_type": "stream",
     "text": [
      "tcsmount.log.2023-02-12\n",
      "2:34:33\n",
      "\n",
      "2:33:40 ra: 220.464\n",
      "2:33:40 dec: 41.9633\n"
     ]
    }
   ],
   "source": [
    "from datetime import datetime, timedelta\n",
    "import os\n",
    "\n",
    "file_corr = 'DC230212023433_2km.fits'\n",
    "data_ = file_corr[2:4] + '-' + file_corr[4:6] + '-' + file_corr[6:8]\n",
    "\n",
    "time_ = file_corr[8:10] + ':' + file_corr[10:12] + ':' + file_corr[12:14]\n",
    "time_ = datetime.strptime(time_, '%H:%M:%S').time()\n",
    "time_ = timedelta(hours=time_.hour, minutes=time_.minute, seconds=time_.second)  # timedelta construction\n",
    "\n",
    "dir_ = 'D:/astro/domecam/tlsp'\n",
    "# data_ = '2022-01-01' # YYYY-MM-DD\n",
    "\n",
    "for log_ in os.listdir(dir_):\n",
    "    if log_.endswith(data_):\n",
    "        file_ = log_\n",
    "\n",
    "print(file_)\n",
    "print(time_)   \n",
    "print()\n",
    "\n",
    "with open(f'{dir_}/{file_}') as f:\n",
    "    for line in f:\n",
    "        if 'createEQU RA0' in line:\n",
    "            line = line.replace(']', '').split()\n",
    "            time_found = line[1].split(':')[:-1] # чтобы убрать милисекунды\n",
    "            time_found = ''.join(':'.join(time_found))\n",
    "            time_found = datetime.strptime(time_found, '%H:%M:%S').time()\n",
    "            time_found = timedelta(hours=time_found.hour, minutes=time_found.minute, seconds=time_found.second)  # timedelta construction\n",
    "            if (time_ - time_found).seconds < 120:\n",
    "                print(time_found, 'ra:', line[-1])\n",
    "            \n",
    "        if 'createEQU DEC0' in line:\n",
    "            line = line.replace(']', '').split()\n",
    "            time_found = line[1].split(':')[:-1] # чтобы убрать милисекунды\n",
    "            time_found = ''.join(':'.join(time_found))\n",
    "            time_found = datetime.strptime(time_found, '%H:%M:%S').time()\n",
    "            time_found = timedelta(hours=time_found.hour, minutes=time_found.minute, seconds=time_found.second)  # timedelta construction\n",
    "            if (time_ - time_found).seconds < 120:\n",
    "                print(time_found, 'dec:', line[-1])"
   ]
  }
 ],
 "metadata": {
  "kernelspec": {
   "display_name": "Python 3 (ipykernel)",
   "language": "python",
   "name": "python3"
  },
  "language_info": {
   "codemirror_mode": {
    "name": "ipython",
    "version": 3
   },
   "file_extension": ".py",
   "mimetype": "text/x-python",
   "name": "python",
   "nbconvert_exporter": "python",
   "pygments_lexer": "ipython3",
   "version": "3.9.13"
  }
 },
 "nbformat": 4,
 "nbformat_minor": 5
}
