{
 "cells": [
  {
   "cell_type": "code",
   "execution_count": 115,
   "id": "02e9992c",
   "metadata": {},
   "outputs": [
    {
     "name": "stdout",
     "output_type": "stream",
     "text": [
      "2023-02-12 05:34:33\n",
      "tcsmount.log.2023-02-12\n",
      "5:32:21 ra: 193.508\n",
      "5:32:21 dec: 55.9598\n",
      "['4905', 'Eps_UMa', '12', '54', '02', '+55', '57', '35', '1.77', '-0.02', 'A05', 'A0pCr']\n"
     ]
    }
   ],
   "source": [
    "from datetime import datetime, timedelta\n",
    "import os\n",
    "\n",
    "dir_ = 'D:/astro/domecam/tlsp'\n",
    "file_corr = 'DC230212023433_2km.fits'\n",
    "catalog = 'D:/astro/domecam/mass_star.lst'\n",
    "delta_seconds = 150 # разница между временем в названии серии и в файле логов, секунды\n",
    "\n",
    "full_data_ = datetime.strptime('20' + file_corr[2:4] + '-' + file_corr[4:6] + '-' + file_corr[6:8] + ' ' + file_corr[8:10] + ':' + file_corr[10:12] + ':' + file_corr[12:14], '%Y-%m-%d %H:%M:%S')\n",
    "full_data_ = full_data_ + timedelta(hours=3)\n",
    "\n",
    "time_ = full_data_.time()\n",
    "time_ = timedelta(hours=time_.hour, minutes=time_.minute, seconds=time_.second)\n",
    "\n",
    "date_ = str(full_data_.date())\n",
    "\n",
    "for log_ in os.listdir(dir_):\n",
    "    if log_.endswith(date_):\n",
    "        file_ = log_\n",
    "\n",
    "print(full_data_)\n",
    "print(file_)\n",
    "\n",
    "with open(f'{dir_}/{file_}') as f:\n",
    "    for line in f:\n",
    "        if 'createEQU RA0' in line:\n",
    "            line = line.replace(']', '').split()\n",
    "            time_found = line[1].split(':')[:-1] # чтобы убрать милисекунды\n",
    "            time_found = ''.join(':'.join(time_found))\n",
    "            time_found = datetime.strptime(time_found, '%H:%M:%S').time()\n",
    "            time_found = timedelta(hours=time_found.hour, minutes=time_found.minute, seconds=time_found.second)\n",
    "            if (abs(time_ - time_found)).seconds < delta_seconds:\n",
    "                ra = float(line[-1])\n",
    "                print(time_found, 'ra:', line[-1])\n",
    "            \n",
    "        if 'createEQU DEC0' in line:\n",
    "            line = line.replace(']', '').split()\n",
    "            time_found = line[1].split(':')[:-1] # чтобы убрать милисекунды\n",
    "            time_found = ''.join(':'.join(time_found))\n",
    "            time_found = datetime.strptime(time_found, '%H:%M:%S').time()\n",
    "            time_found = timedelta(hours=time_found.hour, minutes=time_found.minute, seconds=time_found.second)\n",
    "            if (abs(time_ - time_found)).seconds < delta_seconds:\n",
    "                dec = float(line[-1])\n",
    "                print(time_found, 'dec:', line[-1])\n",
    "\n",
    "aim = timedelta(seconds=3600 * ra / 15)\n",
    "with open(catalog) as f:\n",
    "    for line in f:\n",
    "        line = line.split()\n",
    "        line_ra = (':').join(line[2:5])\n",
    "        line_ra =  datetime.strptime(line_ra, '%H:%M:%S').time()\n",
    "        line_ra = timedelta(hours=line_ra.hour, minutes=line_ra.minute, seconds=line_ra.second)\n",
    "        if (abs(aim - line_ra)).seconds < 10:\n",
    "            print(line)"
   ]
  }
 ],
 "metadata": {
  "kernelspec": {
   "display_name": "Python 3 (ipykernel)",
   "language": "python",
   "name": "python3"
  },
  "language_info": {
   "codemirror_mode": {
    "name": "ipython",
    "version": 3
   },
   "file_extension": ".py",
   "mimetype": "text/x-python",
   "name": "python",
   "nbconvert_exporter": "python",
   "pygments_lexer": "ipython3",
   "version": "3.9.13"
  }
 },
 "nbformat": 4,
 "nbformat_minor": 5
}
