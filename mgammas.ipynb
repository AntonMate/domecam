{
 "cells": [
  {
   "cell_type": "code",
   "execution_count": 1,
   "id": "4b532467",
   "metadata": {},
   "outputs": [],
   "source": [
    "import time\n",
    "import numpy as np\n",
    "import matplotlib.pyplot as plt\n",
    "import os"
   ]
  },
  {
   "cell_type": "code",
   "execution_count": 2,
   "id": "3d64d6df",
   "metadata": {},
   "outputs": [],
   "source": [
    "# --- апертурный фильтр\n",
    "def aperture_func(nx, f_scale, delta): \n",
    "    fx, fy = f_scale * np.asarray(np.meshgrid(np.linspace(-nx//2, nx//2-1, nx), np.linspace(-nx//2, nx//2-1, nx)))\n",
    "    res = np.abs(np.sinc(delta*fx)*np.sinc(delta*fy))**2\n",
    "    res[np.isnan(res)] = 0\n",
    "    return res\n",
    "    \n",
    "# --- модуль |f|^11/3 \n",
    "def abs_f(nx, f_scale):\n",
    "    fx, fy = f_scale * np.asarray(np.meshgrid(np.linspace(-nx//2, nx//2-1, nx), np.linspace(-nx//2, nx//2-1, nx)))\n",
    "    with np.errstate(divide='ignore'):\n",
    "        res = pow(np.sqrt(fx**2+fy**2), -11./3.)\n",
    "    \n",
    "    res[np.isnan(res)] = 0\n",
    "    return res\n",
    "\n",
    "# --- фильтр Френеля\n",
    "def ffilter(nx, f_scale, z, lambda_): \n",
    "    fx, fy = f_scale * np.asarray(np.meshgrid(np.linspace(-nx//2, nx//2-1, nx), np.linspace(-nx//2, nx//2-1, nx)))\n",
    "    res = pow(np.sin(np.pi*z*lambda_*(fx**2+fy**2)), 2) / pow(lambda_, 2)\n",
    "    res[np.isnan(res)] = 0\n",
    "    return res\n",
    "\n",
    "# --- монохроматические гаммы со скоростями 0 м/с\n",
    "def gamma_mono(Cn2, z, lambda_, cjk=None, D=None, sec_per_frame=None, latency=None):\n",
    "    const = 9.69*pow(10, -3)*16*pow(np.pi, 2)\n",
    "    nx=cjk.shape[0]\n",
    "    f_scale = 1/(2*D)\n",
    "    delta = D/(cjk.shape[0]//2)\n",
    "\n",
    "    Fresnel_filter = ffilter(nx, f_scale, z, lambda_)\n",
    "    f_11_3 = abs_f(nx, f_scale)\n",
    "    A_f = aperture_func(nx, f_scale, delta) \n",
    "    \n",
    "    with np.errstate(invalid='ignore'):\n",
    "        res = f_11_3 * Fresnel_filter\n",
    "    \n",
    "    res[np.isnan(res)] = 0\n",
    "    res = res * A_f\n",
    "    res[np.isnan(res)] = 0\n",
    "    \n",
    "    res = np.fft.fftshift(np.fft.irfft2(np.fft.fftshift(res), s=res.shape, norm='backward'))\n",
    "    res = res * 9.69*pow(10, -3)*16*pow(np.pi, 2)\n",
    "\n",
    "    res = res * pow(f_scale*nx, 2)\n",
    "    res = Cn2 * res   \n",
    "    \n",
    "    res = res * cjk\n",
    "    return res"
   ]
  },
  {
   "cell_type": "code",
   "execution_count": 5,
   "id": "ab789677",
   "metadata": {},
   "outputs": [
    {
     "name": "stdout",
     "output_type": "stream",
     "text": [
      "0.0014853766887197475\n"
     ]
    }
   ],
   "source": [
    "# надо сравнить ее с резами Матевея\n",
    "cjk = np.ones((452, 452))\n",
    "D=2.5\n",
    "latency=4\n",
    "sec_per_frame=0.01\n",
    "tmp = gamma_mono(1e-14, 2000, 650e-9, cjk=cjk, D=D, sec_per_frame=sec_per_frame, latency=latency)\n",
    "print(np.max(tmp))"
   ]
  },
  {
   "cell_type": "code",
   "execution_count": 6,
   "id": "9390026b",
   "metadata": {},
   "outputs": [
    {
     "name": "stdout",
     "output_type": "stream",
     "text": [
      "gammas library done!\n",
      "time: 1.2578088000000207\n"
     ]
    }
   ],
   "source": [
    "st = time.perf_counter()\n",
    "\n",
    "a1 = np.linspace(0, 50000, 25)\n",
    "gammas1 = np.ndarray(shape=(len(a1), cjk.shape[0], cjk.shape[1]))\n",
    "\n",
    "for i in range(len(a1)):\n",
    "    gammas1[i] = gamma_mono(1e-13, a1[i], 500e-9, cjk=cjk, D=D, sec_per_frame=sec_per_frame, latency=latency)\n",
    "np.save('D:/astro/domecam/tempGM500.npy', gammas1)\n",
    "print('temp gammas done!')\n",
    "print('time:', time.perf_counter()-st)"
   ]
  }
 ],
 "metadata": {
  "kernelspec": {
   "display_name": "Python 3 (ipykernel)",
   "language": "python",
   "name": "python3"
  },
  "language_info": {
   "codemirror_mode": {
    "name": "ipython",
    "version": 3
   },
   "file_extension": ".py",
   "mimetype": "text/x-python",
   "name": "python",
   "nbconvert_exporter": "python",
   "pygments_lexer": "ipython3",
   "version": "3.9.13"
  }
 },
 "nbformat": 4,
 "nbformat_minor": 5
}
