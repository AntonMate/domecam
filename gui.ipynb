{
 "cells": [
  {
   "cell_type": "code",
   "execution_count": 81,
   "id": "b8f52038",
   "metadata": {},
   "outputs": [],
   "source": [
    "from tkinter import *\n",
    "from tkinter import ttk\n",
    "    \n",
    "def print_input():\n",
    "    gain = input_variable_gain.get()\n",
    "    print('gain:', gain)\n",
    "    \n",
    "window = Tk()  \n",
    "window.title(\"CLEAN config\")  \n",
    "window.geometry('400x250')\n",
    "window.configure(bg='gray')\n",
    "\n",
    "input_variable_gain = StringVar()\n",
    "\n",
    "lbl1 = ttk.Label(text=\"gain:\", font=(\"Calibri\", 10))\n",
    "txt1 = ttk.Entry(window, textvariable=input_variable_gain, width=10)\n",
    "btn1 = ttk.Button(window, text=\"run\", command=print_input) \n",
    "\n",
    "lbl1.pack(padx=0, pady=0, anchor=NW) \n",
    "txt1.pack(padx=0, pady=0, anchor=NW)\n",
    "btn1.pack(padx=0, pady=0, anchor=NW)\n",
    "\n",
    "window.mainloop()"
   ]
  },
  {
   "cell_type": "code",
   "execution_count": 55,
   "id": "141853d7",
   "metadata": {},
   "outputs": [],
   "source": [
    "from tkinter import *\n",
    "from tkinter import ttk\n",
    " \n",
    "root = Tk()\n",
    "root.title(\"METANIT.COM\")\n",
    "root.geometry(\"250x200\")\n",
    " \n",
    "enabled = IntVar()\n",
    "  \n",
    "enabled_checkbutton = ttk.Checkbutton(text=\"Включить\", variable=enabled)\n",
    "enabled_checkbutton.pack(padx=6, pady=6, anchor=NW)\n",
    "  \n",
    "enabled_label = ttk.Label(textvariable=enabled)\n",
    "enabled_label.pack(padx=6, pady=6, anchor=NW)\n",
    " \n",
    "root.mainloop()"
   ]
  }
 ],
 "metadata": {
  "kernelspec": {
   "display_name": "Python 3 (ipykernel)",
   "language": "python",
   "name": "python3"
  },
  "language_info": {
   "codemirror_mode": {
    "name": "ipython",
    "version": 3
   },
   "file_extension": ".py",
   "mimetype": "text/x-python",
   "name": "python",
   "nbconvert_exporter": "python",
   "pygments_lexer": "ipython3",
   "version": "3.9.13"
  }
 },
 "nbformat": 4,
 "nbformat_minor": 5
}
