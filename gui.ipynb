{
 "cells": [
  {
   "cell_type": "code",
   "execution_count": null,
   "id": "b8f52038",
   "metadata": {},
   "outputs": [],
   "source": [
    "from tkinter import *\n",
    "from tkinter import ttk\n",
    "    \n",
    "def print_input():\n",
    "    gain_test = input_variable.get()\n",
    "    print('gain:', gain_test)\n",
    "    \n",
    "# def activateCheck():\n",
    "#     if var.get() == 1:          #whenever checked\n",
    "#         txt1.config(state=NORMAL)\n",
    "#     elif var.get() == 0:        #whenever unchecked\n",
    "#         txt1.config(state=DISABLED)\n",
    "\n",
    "# def test():\n",
    "#     if txt1['state'] == 'normal':\n",
    "#         txt1['state'] = 'disabled'\n",
    "#     else:\n",
    "#         txt1['state'] = 'normal'\n",
    "    \n",
    "window = Tk()  \n",
    "window.title(\"CLEAN config\")  \n",
    "window.geometry('400x250')\n",
    "window.configure(bg='gray')\n",
    "\n",
    "input_variable = StringVar()\n",
    "\n",
    "lbl1 = ttk.Label(text=\"gain:\", font=(\"Calibri\", 10))\n",
    "# txt1 = ttk.Entry(window, textvariable=input_variable, width=10)\n",
    "# btn1 = ttk.Button(window, text=\"run\", bg=\"gray\", fg='white', height=1, width=5, command=print_input) \n",
    "\n",
    "# enabled = IntVar()\n",
    "# chk1 = Checkbutton(window, text='auto', bg=\"gray\", fg='white', variable=enabled) \n",
    "# \n",
    "# print(type(lbl1), type(txt1), type(btn1))\n",
    "\n",
    "lbl1.pack() \n",
    "# txt1.grid(column=1, row=0)\n",
    "# btn1.grid(column=0, row=4)\n",
    "# chk1.grid(column=2, row=0)\n",
    "window.mainloop()"
   ]
  },
  {
   "cell_type": "code",
   "execution_count": null,
   "id": "141853d7",
   "metadata": {},
   "outputs": [],
   "source": [
    "from tkinter import *\n",
    "from tkinter import ttk\n",
    " \n",
    "root = Tk()\n",
    "root.title(\"METANIT.COM\")\n",
    "root.geometry(\"250x200\")\n",
    " \n",
    "enabled = IntVar()\n",
    "  \n",
    "enabled_checkbutton = ttk.Checkbutton(text=\"Включить\", variable=enabled)\n",
    "enabled_checkbutton.pack(padx=6, pady=6, anchor=NW)\n",
    "  \n",
    "enabled_label = ttk.Label(textvariable=enabled)\n",
    "enabled_label.pack(padx=6, pady=6, anchor=NW)\n",
    " \n",
    "root.mainloop()"
   ]
  }
 ],
 "metadata": {
  "kernelspec": {
   "display_name": "Python 3 (ipykernel)",
   "language": "python",
   "name": "python3"
  },
  "language_info": {
   "codemirror_mode": {
    "name": "ipython",
    "version": 3
   },
   "file_extension": ".py",
   "mimetype": "text/x-python",
   "name": "python",
   "nbconvert_exporter": "python",
   "pygments_lexer": "ipython3",
   "version": "3.9.13"
  }
 },
 "nbformat": 4,
 "nbformat_minor": 5
}
