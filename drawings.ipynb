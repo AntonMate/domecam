{
 "cells": [
  {
   "cell_type": "code",
   "execution_count": null,
   "id": "096f806c",
   "metadata": {},
   "outputs": [],
   "source": [
    "# def draw_correlate_with_velocity(data, D, Dpix, latency, sec_per_frame): \n",
    "#     v = (D / Dpix) / (latency * sec_per_frame)\n",
    "    \n",
    "#     x = np.round(v*np.linspace(-data.shape[0]//2, data.shape[0]//2, 5), 2)\n",
    "#     fig = plt.figure()\n",
    "#     ax = plt.axes()\n",
    "#     im = plt.imshow(data, cmap = None)\n",
    "#     ax.set_xticks(np.linspace(0, data.shape[1], 5))\n",
    "#     ax.set_yticks(np.linspace(0, data.shape[0], 5))\n",
    "#     ax.set_xticklabels(x)\n",
    "#     ax.set_yticklabels(x)\n",
    "#     ax.set_ylabel('Vy, m/s')\n",
    "#     ax.set_xlabel('Vx, m/s')\n",
    "#     cax = fig.add_axes([ax.get_position().x1+0.01,ax.get_position().y0,0.02,ax.get_position().height])\n",
    "#     plt.colorbar(im, cax=cax)\n",
    "# #     ax.grid(color='grey', linestyle='--', linewidth=0.7, alpha=0.4)\n",
    "#     fig.savefig('C:/astro/cross_corr_m2.png', bbox_inches='tight')\n",
    "\n",
    "# draw_correlate_with_velocity(data_corr, D, Dpix, latency, sec_per_frame)"
   ]
  },
  {
   "cell_type": "code",
   "execution_count": null,
   "id": "6f4003f7",
   "metadata": {},
   "outputs": [],
   "source": [
    "# fig, (ax1, ax3) = plt.subplots(1, 2, figsize=(25, 5))\n",
    "\n",
    "# ax1.plot(main_lambdas, main_result, c='black', label='F(λ)')\n",
    "# ax1.set_xlabel('λ, м')\n",
    "# ax1.legend()\n",
    "# ax1.grid(color = 'black', linestyle='--', alpha = 0.2)\n",
    "\n",
    "# fig.colorbar(ax3.imshow(omega_new, cmap='gray'), ax=ax3)\n",
    "# ax3.grid(False)\n",
    "# x = np.round(pow(10, -9) * omega_lambdas_scale/10 * np.linspace(-omega_new.shape[0]//2, omega_new.shape[0]//2, 5) / 256, 2)\n",
    "# ax3.set_xticks(np.linspace(0, omega_new.shape[1], 5))\n",
    "# ax3.set_yticks(np.linspace(0, omega_new.shape[0], 5))\n",
    "# ax3.set_xticklabels(x)\n",
    "# ax3.set_yticklabels(x)\n",
    "# ax3.set_xlabel('frequency, 1e9 м^-1')\n",
    "# ax3.set_ylabel('frequency, 1e9 м^-1')\n",
    "\n",
    "# fig.savefig('C:/astro/response_func.png', bbox_inches='tight')\n",
    "# print(' ')"
   ]
  }
 ],
 "metadata": {
  "kernelspec": {
   "display_name": "Python 3 (ipykernel)",
   "language": "python",
   "name": "python3"
  },
  "language_info": {
   "codemirror_mode": {
    "name": "ipython",
    "version": 3
   },
   "file_extension": ".py",
   "mimetype": "text/x-python",
   "name": "python",
   "nbconvert_exporter": "python",
   "pygments_lexer": "ipython3",
   "version": "3.9.13"
  }
 },
 "nbformat": 4,
 "nbformat_minor": 5
}
