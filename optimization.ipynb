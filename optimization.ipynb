{
 "cells": [
  {
   "cell_type": "code",
   "execution_count": null,
   "id": "a3b8276d",
   "metadata": {},
   "outputs": [],
   "source": [
    "import numpy as np\n",
    "import time\n",
    "from numba import njit, float32, vectorize\n",
    "\n",
    "# @vectorize([float32(float32, float32)])\n",
    "# def sumsum(a, b):\n",
    "#     res = a * b\n",
    "#     return res\n",
    "\n",
    "@njit\n",
    "def sumsum(a, b):\n",
    "    res = a * b\n",
    "    return res\n",
    "\n",
    "\n",
    "def main():\n",
    "    t1 = np.ones((5000, 500, 500), dtype=np.float32)\n",
    "    t2 = 10*np.ones((500, 500), dtype=np.float32)\n",
    "\n",
    "    st = time.perf_counter()\n",
    "    lol = sumsum(t1, t2)\n",
    "    print('time:', time.perf_counter()-st)    \n",
    "main()\n",
    "main()"
   ]
  },
  {
   "cell_type": "code",
   "execution_count": null,
   "id": "8f3df121",
   "metadata": {},
   "outputs": [],
   "source": [
    "import numpy as np\n",
    "\n",
    "def orig(a):\n",
    "    st1 = time.perf_counter()\n",
    "    correlation = [x*x for x in a]\n",
    "    print('time orig list:', time.perf_counter()-st1)\n",
    "    \n",
    "    st2 = time.perf_counter()\n",
    "    correlation = np.array(correlation)\n",
    "    print('time orig conv:', time.perf_counter()-st2)  \n",
    "    return correlation\n",
    "\n",
    "def sumsum(a):\n",
    "    st = time.perf_counter()\n",
    "    iterable = (x*x for x in a)\n",
    "    res = np.fromiter(iterable, dtype=np.dtype((np.float32, (246, 329))))\n",
    "    print('time sumsum:', time.perf_counter()-st)\n",
    "    return res\n",
    "\n",
    "def main():\n",
    "    t1 = np.ones((6000, 246, 329), dtype=np.float32)\n",
    "    lol1 = sumsum(t1)\n",
    "    lol2 = orig(t1)\n",
    "main()"
   ]
  }
 ],
 "metadata": {
  "kernelspec": {
   "display_name": "Python 3 (ipykernel)",
   "language": "python",
   "name": "python3"
  },
  "language_info": {
   "codemirror_mode": {
    "name": "ipython",
    "version": 3
   },
   "file_extension": ".py",
   "mimetype": "text/x-python",
   "name": "python",
   "nbconvert_exporter": "python",
   "pygments_lexer": "ipython3",
   "version": "3.9.13"
  }
 },
 "nbformat": 4,
 "nbformat_minor": 5
}
