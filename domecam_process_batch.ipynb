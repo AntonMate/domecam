{
 "cells": [
  {
   "cell_type": "code",
   "execution_count": 1,
   "id": "103f4f3e",
   "metadata": {},
   "outputs": [
    {
     "name": "stdout",
     "output_type": "stream",
     "text": [
      "20210130l_m2km\n",
      "WARNING: cross correlation is loaded from old file\n",
      "creating gammas\n"
     ]
    },
    {
     "ename": "FileNotFoundError",
     "evalue": "[Errno 2] No such file or directory: 'D:/astro/domecam/stars/filter.csv'",
     "output_type": "error",
     "traceback": [
      "\u001b[1;31m---------------------------------------------------------------------------\u001b[0m",
      "\u001b[1;31mFileNotFoundError\u001b[0m                         Traceback (most recent call last)",
      "Cell \u001b[1;32mIn[1], line 50\u001b[0m\n\u001b[0;32m     48\u001b[0m \u001b[38;5;28;01mif\u001b[39;00m file\u001b[38;5;241m.\u001b[39mendswith(\u001b[38;5;124m'\u001b[39m\u001b[38;5;124m.fits\u001b[39m\u001b[38;5;124m'\u001b[39m) \u001b[38;5;129;01mand\u001b[39;00m \u001b[38;5;129;01mnot\u001b[39;00m file\u001b[38;5;241m.\u001b[39mstartswith(\u001b[38;5;124m'\u001b[39m\u001b[38;5;124mbias\u001b[39m\u001b[38;5;124m'\u001b[39m):\n\u001b[0;32m     49\u001b[0m     \u001b[38;5;28mprint\u001b[39m(file[:\u001b[38;5;241m-\u001b[39m\u001b[38;5;241m5\u001b[39m])\n\u001b[1;32m---> 50\u001b[0m     \u001b[43mprocessDomecam\u001b[49m\u001b[43m(\u001b[49m\u001b[43mfile\u001b[49m\u001b[38;5;241;43m=\u001b[39;49m\u001b[43mfile\u001b[49m\u001b[43m,\u001b[49m\u001b[43m \u001b[49m\u001b[43mfile_bias\u001b[49m\u001b[38;5;241;43m=\u001b[39;49m\u001b[43mfile_bias\u001b[49m\u001b[43m,\u001b[49m\u001b[43m \u001b[49m\u001b[43mdata_dir\u001b[49m\u001b[38;5;241;43m=\u001b[39;49m\u001b[43mdata_dir\u001b[49m\u001b[43m,\u001b[49m\u001b[43m \u001b[49m\n\u001b[0;32m     51\u001b[0m \u001b[43m           \u001b[49m\u001b[43mD\u001b[49m\u001b[38;5;241;43m=\u001b[39;49m\u001b[43mD\u001b[49m\u001b[43m,\u001b[49m\u001b[43m \u001b[49m\u001b[43mconjugated_distance\u001b[49m\u001b[38;5;241;43m=\u001b[39;49m\u001b[43mconjugated_distance\u001b[49m\u001b[43m,\u001b[49m\u001b[43m \u001b[49m\u001b[43mlatency\u001b[49m\u001b[38;5;241;43m=\u001b[39;49m\u001b[43mlatency\u001b[49m\u001b[43m,\u001b[49m\n\u001b[0;32m     52\u001b[0m \u001b[43m           \u001b[49m\u001b[43mspectrum\u001b[49m\u001b[38;5;241;43m=\u001b[39;49m\u001b[43mspectrum\u001b[49m\u001b[43m,\u001b[49m\u001b[43m \u001b[49m\u001b[43mlambda_\u001b[49m\u001b[38;5;241;43m=\u001b[39;49m\u001b[43mlambda_\u001b[49m\u001b[43m,\u001b[49m\u001b[43m \u001b[49m\u001b[43mfile_filter\u001b[49m\u001b[38;5;241;43m=\u001b[39;49m\u001b[43mfile_filter\u001b[49m\u001b[43m,\u001b[49m\u001b[43m \u001b[49m\u001b[43mfile_ccd\u001b[49m\u001b[38;5;241;43m=\u001b[39;49m\u001b[43mfile_ccd\u001b[49m\u001b[43m,\u001b[49m\u001b[43m \u001b[49m\u001b[43mfile_star\u001b[49m\u001b[38;5;241;43m=\u001b[39;49m\u001b[43mfile_star\u001b[49m\u001b[43m,\u001b[49m\n\u001b[0;32m     53\u001b[0m \u001b[43m           \u001b[49m\u001b[43mdo_fitting\u001b[49m\u001b[38;5;241;43m=\u001b[39;49m\u001b[43mdo_fitting\u001b[49m\u001b[43m,\u001b[49m\u001b[43m \u001b[49m\u001b[43muse_gradient\u001b[49m\u001b[38;5;241;43m=\u001b[39;49m\u001b[43muse_gradient\u001b[49m\u001b[43m,\u001b[49m\u001b[43m \u001b[49m\u001b[43minitial_params\u001b[49m\u001b[38;5;241;43m=\u001b[39;49m\u001b[38;5;28;43;01mNone\u001b[39;49;00m\u001b[43m,\u001b[49m\u001b[43m \u001b[49m\u001b[43mdome_only\u001b[49m\u001b[38;5;241;43m=\u001b[39;49m\u001b[43mdome_only\u001b[49m\u001b[43m,\u001b[49m\u001b[43m \u001b[49m\n\u001b[0;32m     54\u001b[0m \u001b[43m           \u001b[49m\u001b[43muse_windvar\u001b[49m\u001b[38;5;241;43m=\u001b[39;49m\u001b[43muse_windvar\u001b[49m\u001b[43m)\u001b[49m\n",
      "File \u001b[1;32m~\\coding\\domecam\\main.py:34\u001b[0m, in \u001b[0;36mprocessDomecam\u001b[1;34m(file, file_bias, data_dir, D, conjugated_distance, latency, spectrum, lambda_, file_star, file_filter, file_ccd, initial_params, use_gradient, do_fitting, dome_only, use_windvar)\u001b[0m\n\u001b[0;32m     32\u001b[0m num_of_layers\u001b[38;5;241m=\u001b[39m\u001b[38;5;241m50\u001b[39m\n\u001b[0;32m     33\u001b[0m heights_of_layers \u001b[38;5;241m=\u001b[39m np\u001b[38;5;241m.\u001b[39mgeomspace(\u001b[38;5;241m100\u001b[39m, \u001b[38;5;241m50000\u001b[39m, num_of_layers, dtype\u001b[38;5;241m=\u001b[39mnp\u001b[38;5;241m.\u001b[39mfloat32)\n\u001b[1;32m---> 34\u001b[0m gammas \u001b[38;5;241m=\u001b[39m \u001b[43mprocessGamma\u001b[49m\u001b[43m(\u001b[49m\u001b[43mlambda_\u001b[49m\u001b[43m,\u001b[49m\u001b[43m \u001b[49m\u001b[43mGammaType\u001b[49m\u001b[38;5;241;43m=\u001b[39;49m\u001b[43mspectrum\u001b[49m\u001b[43m,\u001b[49m\u001b[43m \u001b[49m\u001b[43mcjk\u001b[49m\u001b[38;5;241;43m=\u001b[39;49m\u001b[43mcjk\u001b[49m\u001b[43m,\u001b[49m\u001b[43m \u001b[49m\u001b[43mD\u001b[49m\u001b[38;5;241;43m=\u001b[39;49m\u001b[43mD\u001b[49m\u001b[43m,\u001b[49m\u001b[43m \u001b[49m\u001b[43mfile\u001b[49m\u001b[38;5;241;43m=\u001b[39;49m\u001b[43mfile\u001b[49m\u001b[43m,\u001b[49m\u001b[43m \u001b[49m\u001b[43mfile_star\u001b[49m\u001b[38;5;241;43m=\u001b[39;49m\u001b[43mfile_star\u001b[49m\u001b[43m,\u001b[49m\u001b[43m \u001b[49m\u001b[43mfile_filter\u001b[49m\u001b[38;5;241;43m=\u001b[39;49m\u001b[43mfile_filter\u001b[49m\u001b[43m,\u001b[49m\u001b[43m \u001b[49m\u001b[43mfile_ccd\u001b[49m\u001b[38;5;241;43m=\u001b[39;49m\u001b[43mfile_ccd\u001b[49m\u001b[43m,\u001b[49m\u001b[43m \u001b[49m\u001b[43mnum_of_layers\u001b[49m\u001b[38;5;241;43m=\u001b[39;49m\u001b[43mnum_of_layers\u001b[49m\u001b[43m,\u001b[49m\u001b[43m \u001b[49m\u001b[43mheights_of_layers\u001b[49m\u001b[38;5;241;43m=\u001b[39;49m\u001b[43mheights_of_layers\u001b[49m\u001b[43m,\u001b[49m\u001b[43m \u001b[49m\u001b[43mdata_dir\u001b[49m\u001b[38;5;241;43m=\u001b[39;49m\u001b[43mdata_dir\u001b[49m\u001b[43m)\u001b[49m \n\u001b[0;32m     35\u001b[0m \u001b[38;5;28mprint\u001b[39m(\u001b[38;5;124mf\u001b[39m\u001b[38;5;124m'\u001b[39m\u001b[38;5;124m - \u001b[39m\u001b[38;5;132;01m{\u001b[39;00mnum_of_layers\u001b[38;5;132;01m}\u001b[39;00m\u001b[38;5;124m \u001b[39m\u001b[38;5;132;01m{\u001b[39;00mspectrum\u001b[38;5;132;01m}\u001b[39;00m\u001b[38;5;124mchromatic turbulence layers from 0 to 50 km\u001b[39m\u001b[38;5;124m'\u001b[39m)\n\u001b[0;32m     36\u001b[0m \u001b[38;5;28mprint\u001b[39m(\u001b[38;5;124mf\u001b[39m\u001b[38;5;124m'\u001b[39m\u001b[38;5;124m - time: \u001b[39m\u001b[38;5;132;01m{\u001b[39;00mtime\u001b[38;5;241m.\u001b[39mperf_counter()\u001b[38;5;250m \u001b[39m\u001b[38;5;241m-\u001b[39m\u001b[38;5;250m \u001b[39mst\u001b[38;5;132;01m:\u001b[39;00m\u001b[38;5;124m.2f\u001b[39m\u001b[38;5;132;01m}\u001b[39;00m\u001b[38;5;124m'\u001b[39m)\n",
      "File \u001b[1;32m~\\coding\\domecam\\tempfiles.py:179\u001b[0m, in \u001b[0;36mprocessGamma\u001b[1;34m(lambda_, GammaType, cjk, D, file, file_star, file_filter, file_ccd, num_of_layers, heights_of_layers, data_dir)\u001b[0m\n\u001b[0;32m    173\u001b[0m             gammas1[i] \u001b[38;5;241m=\u001b[39m gaussian(tmp, sigma\u001b[38;5;241m=\u001b[39m\u001b[38;5;241m1\u001b[39m)\n\u001b[0;32m    175\u001b[0m     \u001b[38;5;28;01mif\u001b[39;00m GammaType \u001b[38;5;241m==\u001b[39m \u001b[38;5;124m'\u001b[39m\u001b[38;5;124mpoly\u001b[39m\u001b[38;5;124m'\u001b[39m: \n\u001b[0;32m    176\u001b[0m \u001b[38;5;66;03m#         проверка весовой функции:\u001b[39;00m\n\u001b[0;32m    177\u001b[0m \u001b[38;5;66;03m#         f_lambda = np.zeros((1071), dtype=np.float32)\u001b[39;00m\n\u001b[0;32m    178\u001b[0m \u001b[38;5;66;03m#         f_lambda[650] = 1\u001b[39;00m\n\u001b[1;32m--> 179\u001b[0m         f_lambda\u001b[38;5;241m=\u001b[39m\u001b[43mprocessF_lamda\u001b[49m\u001b[43m(\u001b[49m\u001b[43mfile\u001b[49m\u001b[38;5;241;43m=\u001b[39;49m\u001b[43mfile\u001b[49m\u001b[43m,\u001b[49m\u001b[43m \u001b[49m\u001b[43mfile_star\u001b[49m\u001b[38;5;241;43m=\u001b[39;49m\u001b[43mfile_star\u001b[49m\u001b[43m,\u001b[49m\u001b[43m \u001b[49m\u001b[43mfile_filter\u001b[49m\u001b[38;5;241;43m=\u001b[39;49m\u001b[43mfile_filter\u001b[49m\u001b[43m,\u001b[49m\u001b[43m \u001b[49m\u001b[43mfile_ccd\u001b[49m\u001b[38;5;241;43m=\u001b[39;49m\u001b[43mfile_ccd\u001b[49m\u001b[43m,\u001b[49m\u001b[43m \u001b[49m\u001b[43mdata_dir\u001b[49m\u001b[38;5;241;43m=\u001b[39;49m\u001b[43mdata_dir\u001b[49m\u001b[43m)\u001b[49m\n\u001b[0;32m    181\u001b[0m         coeff\u001b[38;5;241m=\u001b[39m\u001b[38;5;241m1000\u001b[39m \n\u001b[0;32m    182\u001b[0m         k \u001b[38;5;241m=\u001b[39m (\u001b[38;5;28mlen\u001b[39m(f_lambda)\u001b[38;5;241m-\u001b[39m\u001b[38;5;241m1\u001b[39m)\u001b[38;5;241m*\u001b[39mcoeff\n",
      "File \u001b[1;32m~\\coding\\domecam\\tempfiles.py:98\u001b[0m, in \u001b[0;36mprocessF_lamda\u001b[1;34m(file, file_star, file_filter, file_ccd, data_dir)\u001b[0m\n\u001b[0;32m     97\u001b[0m \u001b[38;5;28;01mdef\u001b[39;00m \u001b[38;5;21mprocessF_lamda\u001b[39m(file\u001b[38;5;241m=\u001b[39m\u001b[38;5;28;01mNone\u001b[39;00m, file_star\u001b[38;5;241m=\u001b[39m\u001b[38;5;28;01mNone\u001b[39;00m, file_filter\u001b[38;5;241m=\u001b[39m\u001b[38;5;28;01mNone\u001b[39;00m, file_ccd\u001b[38;5;241m=\u001b[39m\u001b[38;5;28;01mNone\u001b[39;00m, data_dir\u001b[38;5;241m=\u001b[39m\u001b[38;5;28;01mNone\u001b[39;00m):\n\u001b[1;32m---> 98\u001b[0m     x_filter, y_filter \u001b[38;5;241m=\u001b[39m \u001b[43mfilter_values\u001b[49m\u001b[43m(\u001b[49m\u001b[43mfile_filter\u001b[49m\u001b[43m,\u001b[49m\u001b[43m \u001b[49m\u001b[43mdata_dir\u001b[49m\u001b[38;5;241;43m=\u001b[39;49m\u001b[43mdata_dir\u001b[49m\u001b[43m)\u001b[49m\n\u001b[0;32m     99\u001b[0m     x_ccd, y_ccd \u001b[38;5;241m=\u001b[39m ccd_values(file_ccd, data_dir\u001b[38;5;241m=\u001b[39mdata_dir)\n\u001b[0;32m    100\u001b[0m     x_star, y_star \u001b[38;5;241m=\u001b[39m star_values(file_star, data_dir\u001b[38;5;241m=\u001b[39mdata_dir)\n",
      "File \u001b[1;32m~\\coding\\domecam\\tempfiles.py:57\u001b[0m, in \u001b[0;36mfilter_values\u001b[1;34m(file, data_dir)\u001b[0m\n\u001b[0;32m     53\u001b[0m         writecsv\u001b[38;5;241m.\u001b[39mwriterow(x1\u001b[38;5;241m.\u001b[39mrow_values(rownum))\n\u001b[0;32m     55\u001b[0m     csvfile\u001b[38;5;241m.\u001b[39mclose()\n\u001b[1;32m---> 57\u001b[0m \u001b[43mxls_to_csv\u001b[49m\u001b[43m(\u001b[49m\u001b[43mfile\u001b[49m\u001b[43m,\u001b[49m\u001b[43m \u001b[49m\u001b[43mdata_dir\u001b[49m\u001b[38;5;241;43m=\u001b[39;49m\u001b[43mdata_dir\u001b[49m\u001b[43m)\u001b[49m\n\u001b[0;32m     59\u001b[0m x_filter, y_filter \u001b[38;5;241m=\u001b[39m [], []\n\u001b[0;32m     60\u001b[0m \u001b[38;5;28;01mwith\u001b[39;00m \u001b[38;5;28mopen\u001b[39m(\u001b[38;5;124mf\u001b[39m\u001b[38;5;124m'\u001b[39m\u001b[38;5;132;01m{\u001b[39;00mdata_dir\u001b[38;5;132;01m}\u001b[39;00m\u001b[38;5;124m/stars/filter.csv\u001b[39m\u001b[38;5;124m'\u001b[39m) \u001b[38;5;28;01mas\u001b[39;00m f1:\n",
      "File \u001b[1;32m~\\coding\\domecam\\tempfiles.py:49\u001b[0m, in \u001b[0;36mfilter_values.<locals>.xls_to_csv\u001b[1;34m(file, data_dir)\u001b[0m\n\u001b[0;32m     47\u001b[0m x \u001b[38;5;241m=\u001b[39m  xlrd\u001b[38;5;241m.\u001b[39mopen_workbook(\u001b[38;5;124mf\u001b[39m\u001b[38;5;124m'\u001b[39m\u001b[38;5;132;01m{\u001b[39;00mdata_dir\u001b[38;5;132;01m}\u001b[39;00m\u001b[38;5;124m/\u001b[39m\u001b[38;5;132;01m{\u001b[39;00mfile\u001b[38;5;132;01m}\u001b[39;00m\u001b[38;5;124m'\u001b[39m)\n\u001b[0;32m     48\u001b[0m x1 \u001b[38;5;241m=\u001b[39m x\u001b[38;5;241m.\u001b[39msheet_by_name(\u001b[38;5;124m'\u001b[39m\u001b[38;5;124mИзмерение\u001b[39m\u001b[38;5;124m'\u001b[39m)\n\u001b[1;32m---> 49\u001b[0m csvfile \u001b[38;5;241m=\u001b[39m \u001b[38;5;28;43mopen\u001b[39;49m\u001b[43m(\u001b[49m\u001b[38;5;124;43mf\u001b[39;49m\u001b[38;5;124;43m'\u001b[39;49m\u001b[38;5;132;43;01m{\u001b[39;49;00m\u001b[43mdata_dir\u001b[49m\u001b[38;5;132;43;01m}\u001b[39;49;00m\u001b[38;5;124;43m/stars/filter.csv\u001b[39;49m\u001b[38;5;124;43m'\u001b[39;49m\u001b[43m,\u001b[49m\u001b[43m \u001b[49m\u001b[38;5;124;43m'\u001b[39;49m\u001b[38;5;124;43mw\u001b[39;49m\u001b[38;5;124;43m'\u001b[39;49m\u001b[43m)\u001b[49m\n\u001b[0;32m     50\u001b[0m writecsv \u001b[38;5;241m=\u001b[39m csv\u001b[38;5;241m.\u001b[39mwriter(csvfile, quoting\u001b[38;5;241m=\u001b[39mcsv\u001b[38;5;241m.\u001b[39mQUOTE_ALL)\n\u001b[0;32m     52\u001b[0m \u001b[38;5;28;01mfor\u001b[39;00m rownum \u001b[38;5;129;01min\u001b[39;00m \u001b[38;5;28mrange\u001b[39m(\u001b[38;5;241m1\u001b[39m, x1\u001b[38;5;241m.\u001b[39mnrows): \u001b[38;5;66;03m# пропускаю первую сртоку в файле, тк. там текст\u001b[39;00m\n",
      "\u001b[1;31mFileNotFoundError\u001b[0m: [Errno 2] No such file or directory: 'D:/astro/domecam/stars/filter.csv'"
     ]
    }
   ],
   "source": [
    "from main import processDomecam\n",
    "import os\n",
    "import getopt\n",
    "\n",
    "# =====================================================================================================\n",
    "\n",
    "\n",
    "\n",
    "\n",
    "\n",
    "\n",
    "\n",
    "# =====================================================================================================\n",
    "file = '20210130l_m2km.fits'\n",
    "file_bias = 'bias20210130.fits'\n",
    "data_dir = 'D:/astro/domecam' # рабочая папка, все исходные файлы должны храниться в ней\n",
    "\n",
    "latency = [4, 6] # задержка для кросс-корреляции, [кадр]\n",
    "conjugated_distance = 2 # сопряженное расстояние, [километр]\n",
    "D = 2.5 # диаметр телескопа, [метр]\n",
    "spectrum = 'poly' # тип излучения\n",
    "lambda_ = 650*1e-9 # длина наблюдаемой волны света, [метр]\n",
    " \n",
    "use_gradient = False # БС: использовать ли градиенты между слоями\n",
    "use_windvar = True # использовать ли дисперсию ветра\n",
    "\n",
    "# для полихроматического излучения нужны кривые фильтра, детектора и звезды\n",
    "file_filter = 'KC19_d16t4_Safonov.xls'\n",
    "file_ccd = 'ccd_prosilica2.crv'\n",
    "file_star = 'a05.sp'\n",
    "\n",
    "# БС: если параметр do_fitting равен False: отладочный режим, аппроксимация не будет выполнена, а будут взяты начальные \n",
    "# параметры initial_params\n",
    "# БС: если параметр do_fitting равен True, то будет выполнена оценка начальных параметров и проведена аппроксимация\n",
    "do_fitting = True\n",
    "dome_only = 5 # 0, чтобы отключить. >0, чтобы задать радиус области вокруг центра\n",
    "\n",
    "# начальные параметры для аппроксимации в явном виде\n",
    "# если их не указать, то они будут подобраны автоматически\n",
    "# initial_params = [[   -0.03 ,    0.02, 2*0.5495173, 1.96746],\n",
    "#                   [   -4.69 ,   -2.26, 5*1.019672,  3.23578],\n",
    "#                   [   -6.38 ,   -6.27, 5*1.314183,  3.19194],\n",
    "#                   [  -11.04 ,  -10.69, 2*1.060673,  9.83704],\n",
    "#                   [  -17.26 ,  -16.99, 3*3.670290, 10.65737]]\n",
    "#initial_params = None\n",
    "\n",
    "for file in os.listdir(f'{data_dir}'):\n",
    "    if file.endswith('.fits') and not file.startswith('bias'):\n",
    "        print(file[:-5])\n",
    "        processDomecam(file=file, file_bias=file_bias, data_dir=data_dir, \n",
    "               D=D, conjugated_distance=conjugated_distance, latency=latency,\n",
    "               spectrum=spectrum, lambda_=lambda_, file_filter=file_filter, file_ccd=file_ccd, file_star=file_star,\n",
    "               do_fitting=do_fitting, use_gradient=use_gradient, initial_params=None, dome_only=dome_only, \n",
    "               use_windvar=use_windvar)"
   ]
  },
  {
   "cell_type": "code",
   "execution_count": null,
   "id": "d12069ad",
   "metadata": {},
   "outputs": [],
   "source": [
    "'DC221222213823_0km.fits'"
   ]
  }
 ],
 "metadata": {
  "kernelspec": {
   "display_name": "Python 3 (ipykernel)",
   "language": "python",
   "name": "python3"
  },
  "language_info": {
   "codemirror_mode": {
    "name": "ipython",
    "version": 3
   },
   "file_extension": ".py",
   "mimetype": "text/x-python",
   "name": "python",
   "nbconvert_exporter": "python",
   "pygments_lexer": "ipython3",
   "version": "3.9.13"
  }
 },
 "nbformat": 4,
 "nbformat_minor": 5
}
