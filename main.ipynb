{
 "cells": [
  {
   "cell_type": "code",
   "execution_count": 1,
   "id": "422c15dc",
   "metadata": {},
   "outputs": [
    {
     "name": "stdout",
     "output_type": "stream",
     "text": [
      "20210130l_m2km.fits\n",
      "Collecting data...\n",
      " - Done! 6000 pupil images shape: 246x329\n",
      "Collecting bias...\n",
      " - Done! bias shape: 246x329\n",
      "Binning...\n",
      " - Done! New shape: 0x164\n",
      "Cross correlating...\n"
     ]
    },
    {
     "ename": "IndexError",
     "evalue": "index 0 is out of bounds for axis 0 with size 0",
     "output_type": "error",
     "traceback": [
      "\u001b[1;31m---------------------------------------------------------------------------\u001b[0m",
      "\u001b[1;31mIndexError\u001b[0m                                Traceback (most recent call last)",
      "Input \u001b[1;32mIn [1]\u001b[0m, in \u001b[0;36m<cell line: 4>\u001b[1;34m()\u001b[0m\n\u001b[0;32m      1\u001b[0m \u001b[38;5;28;01mimport\u001b[39;00m \u001b[38;5;21;01mmatplotlib\u001b[39;00m\u001b[38;5;21;01m.\u001b[39;00m\u001b[38;5;21;01mpyplot\u001b[39;00m \u001b[38;5;28;01mas\u001b[39;00m \u001b[38;5;21;01mplt\u001b[39;00m\n\u001b[0;32m      2\u001b[0m \u001b[38;5;28;01mfrom\u001b[39;00m \u001b[38;5;21;01mreduction\u001b[39;00m \u001b[38;5;28;01mimport\u001b[39;00m one\n\u001b[1;32m----> 4\u001b[0m cc, cjk \u001b[38;5;241m=\u001b[39m \u001b[43mone\u001b[49m\u001b[43m(\u001b[49m\u001b[43mfile\u001b[49m\u001b[38;5;241;43m=\u001b[39;49m\u001b[38;5;124;43m'\u001b[39;49m\u001b[38;5;124;43m20210130l_m2km.fits\u001b[39;49m\u001b[38;5;124;43m'\u001b[39;49m\u001b[43m,\u001b[49m\u001b[43m \u001b[49m\u001b[43mfile_bias\u001b[49m\u001b[38;5;241;43m=\u001b[39;49m\u001b[38;5;124;43m'\u001b[39;49m\u001b[38;5;124;43mbias20210130.fits\u001b[39;49m\u001b[38;5;124;43m'\u001b[39;49m\u001b[43m,\u001b[49m\u001b[43m \u001b[49m\u001b[43mD\u001b[49m\u001b[38;5;241;43m=\u001b[39;49m\u001b[38;5;241;43m2.5\u001b[39;49m\u001b[43m,\u001b[49m\u001b[43m \u001b[49m\u001b[43mlatency\u001b[49m\u001b[38;5;241;43m=\u001b[39;49m\u001b[38;5;241;43m4\u001b[39;49m\u001b[43m,\u001b[49m\u001b[43m \u001b[49m\u001b[43msec_per_frame\u001b[49m\u001b[38;5;241;43m=\u001b[39;49m\u001b[38;5;241;43m0.01\u001b[39;49m\u001b[43m \u001b[49m\u001b[43m,\u001b[49m\u001b[43m \u001b[49m\n\u001b[0;32m      5\u001b[0m \u001b[43m              \u001b[49m\u001b[43mbin_factor\u001b[49m\u001b[38;5;241;43m=\u001b[39;49m\u001b[38;5;241;43m2\u001b[39;49m\u001b[43m,\u001b[49m\u001b[43m \u001b[49m\u001b[43mdata_dir\u001b[49m\u001b[38;5;241;43m=\u001b[39;49m\u001b[38;5;124;43m'\u001b[39;49m\u001b[38;5;124;43mD:/astro/domecam\u001b[39;49m\u001b[38;5;124;43m'\u001b[39;49m\u001b[43m)\u001b[49m\n\u001b[0;32m      7\u001b[0m fig, (ax, ax2) \u001b[38;5;241m=\u001b[39m plt\u001b[38;5;241m.\u001b[39msubplots(\u001b[38;5;241m1\u001b[39m, \u001b[38;5;241m2\u001b[39m, figsize\u001b[38;5;241m=\u001b[39m(\u001b[38;5;241m20\u001b[39m, \u001b[38;5;241m5\u001b[39m))\n\u001b[0;32m      8\u001b[0m ax\u001b[38;5;241m.\u001b[39mimshow(cc)\n",
      "File \u001b[1;32m~\\coding\\Domecam\\reduction.py:115\u001b[0m, in \u001b[0;36mone\u001b[1;34m(file, file_bias, bin_factor, D, latency, sec_per_frame, data_dir)\u001b[0m\n\u001b[0;32m    112\u001b[0m     data \u001b[38;5;241m-\u001b[39m\u001b[38;5;241m=\u001b[39m bias\n\u001b[0;32m    114\u001b[0m \u001b[38;5;28mprint\u001b[39m(\u001b[38;5;124m'\u001b[39m\u001b[38;5;124mCross correlating...\u001b[39m\u001b[38;5;124m'\u001b[39m)\n\u001b[1;32m--> 115\u001b[0m frame, data_corr \u001b[38;5;241m=\u001b[39m \u001b[43mpupil\u001b[49m\u001b[43m(\u001b[49m\u001b[43mdata\u001b[49m\u001b[43m,\u001b[49m\u001b[43m \u001b[49m\u001b[43mlatency\u001b[49m\u001b[43m)\u001b[49m\n\u001b[0;32m    116\u001b[0m cjk \u001b[38;5;241m=\u001b[39m c_jk(data_corr\u001b[38;5;241m.\u001b[39mshape[\u001b[38;5;241m0\u001b[39m], frame)\n\u001b[0;32m    117\u001b[0m \u001b[38;5;28;01mif\u001b[39;00m cjk\u001b[38;5;241m.\u001b[39mshape \u001b[38;5;241m!=\u001b[39m data_corr\u001b[38;5;241m.\u001b[39mshape:\n",
      "File \u001b[1;32m~\\coding\\Domecam\\reduction.py:53\u001b[0m, in \u001b[0;36mpupil\u001b[1;34m(images, latency)\u001b[0m\n\u001b[0;32m     49\u001b[0m         \u001b[38;5;28;01mreturn\u001b[39;00m image\n\u001b[0;32m     51\u001b[0m image_average \u001b[38;5;241m=\u001b[39m np\u001b[38;5;241m.\u001b[39mmean(images, axis\u001b[38;5;241m=\u001b[39m\u001b[38;5;241m0\u001b[39m) \u001b[38;5;66;03m# средний кадр серии\u001b[39;00m\n\u001b[1;32m---> 53\u001b[0m image_binary \u001b[38;5;241m=\u001b[39m (image_average \u001b[38;5;241m>\u001b[39m \u001b[43mthreshold_otsu\u001b[49m\u001b[43m(\u001b[49m\u001b[43mimage_average\u001b[49m\u001b[43m)\u001b[49m\u001b[38;5;241m*\u001b[39m\u001b[38;5;28mint\u001b[39m(\u001b[38;5;241m1\u001b[39m)) \u001b[38;5;66;03m# маска среднего кадра\u001b[39;00m\n\u001b[0;32m     55\u001b[0m images_norm \u001b[38;5;241m=\u001b[39m [(i\u001b[38;5;241m/\u001b[39m(image_average))\u001b[38;5;241m*\u001b[39m(np\u001b[38;5;241m.\u001b[39msum(image_average)\u001b[38;5;241m/\u001b[39mnp\u001b[38;5;241m.\u001b[39msum(i)) \u001b[38;5;241m-\u001b[39m \u001b[38;5;241m1\u001b[39m \u001b[38;5;28;01mfor\u001b[39;00m i \u001b[38;5;129;01min\u001b[39;00m images] \u001b[38;5;66;03m# нормировка изображений\u001b[39;00m\n\u001b[0;32m     56\u001b[0m images_clean \u001b[38;5;241m=\u001b[39m images_norm \u001b[38;5;241m*\u001b[39m image_binary \u001b[38;5;66;03m# отделение зрачка от фона\u001b[39;00m\n",
      "File \u001b[1;32m~\\anaconda3\\lib\\site-packages\\skimage\\filters\\thresholding.py:360\u001b[0m, in \u001b[0;36mthreshold_otsu\u001b[1;34m(image, nbins, hist)\u001b[0m\n\u001b[0;32m    357\u001b[0m \u001b[38;5;66;03m# Check if the image has more than one intensity value; if not, return that\u001b[39;00m\n\u001b[0;32m    358\u001b[0m \u001b[38;5;66;03m# value\u001b[39;00m\n\u001b[0;32m    359\u001b[0m \u001b[38;5;28;01mif\u001b[39;00m image \u001b[38;5;129;01mis\u001b[39;00m \u001b[38;5;129;01mnot\u001b[39;00m \u001b[38;5;28;01mNone\u001b[39;00m:\n\u001b[1;32m--> 360\u001b[0m     first_pixel \u001b[38;5;241m=\u001b[39m \u001b[43mimage\u001b[49m\u001b[38;5;241;43m.\u001b[39;49m\u001b[43mravel\u001b[49m\u001b[43m(\u001b[49m\u001b[43m)\u001b[49m\u001b[43m[\u001b[49m\u001b[38;5;241;43m0\u001b[39;49m\u001b[43m]\u001b[49m\n\u001b[0;32m    361\u001b[0m     \u001b[38;5;28;01mif\u001b[39;00m np\u001b[38;5;241m.\u001b[39mall(image \u001b[38;5;241m==\u001b[39m first_pixel):\n\u001b[0;32m    362\u001b[0m         \u001b[38;5;28;01mreturn\u001b[39;00m first_pixel\n",
      "\u001b[1;31mIndexError\u001b[0m: index 0 is out of bounds for axis 0 with size 0"
     ]
    }
   ],
   "source": [
    "import matplotlib.pyplot as plt\n",
    "from reduction import one\n",
    "\n",
    "cc, cjk = one(file='20210130l_m2km.fits', file_bias='bias20210130.fits', D=2.5, latency=4, sec_per_frame=0.01 , \n",
    "              bin_factor=None, data_dir='D:/astro/domecam')\n",
    "\n",
    "fig, (ax, ax2) = plt.subplots(1, 2, figsize=(20, 5))\n",
    "ax.imshow(cc)\n",
    "ax2.imshow(cjk)"
   ]
  },
  {
   "cell_type": "code",
   "execution_count": null,
   "id": "894da385",
   "metadata": {
    "scrolled": false
   },
   "outputs": [],
   "source": [
    "from clean import curvef\n",
    "\n",
    "curvef(file=f'data/20210130j_m2km_corr_4_blur.gz', #c,d,e,g,h,i,j,l,m\n",
    "       file2=None,\n",
    "       mode='blur', \n",
    "       D=2.5, \n",
    "       latency=4, \n",
    "       sec_per_frame=0.01, \n",
    "       dist0=2, # нужно для отрисовки профиля, отнимается от file\n",
    "       dist02=0,\n",
    "       gain=1, \n",
    "       thresh_manual=0, \n",
    "       thresh_manual2=0,\n",
    "       niter=50, \n",
    "       window=15,\n",
    "       run_clean='yes',\n",
    "       checkpointf='no', \n",
    "       step=None,\n",
    "       seeing_lambda=500*pow(10, -9),\n",
    "       data_dir='D:/astro/domecam')\n",
    "\n",
    "# сделать сортировку в err по индексам из обычных дат. и после этого уже включить сброс индексов, чтобы они по порядку \n",
    "# отображались\n",
    "\n",
    "#1. создать библиотеку монохроматических гамм на 500 нм\n",
    "# пока что тестировать на монохроматических гаммах (потому что так проще библиотеку гамм использовать)\n",
    "# 2. cjk ведь можно поделить на gamma_jk, чтобы в аппроксимации его не учитывать, ведь так? (как у матвея)"
   ]
  }
 ],
 "metadata": {
  "kernelspec": {
   "display_name": "Python 3 (ipykernel)",
   "language": "python",
   "name": "python3"
  },
  "language_info": {
   "codemirror_mode": {
    "name": "ipython",
    "version": 3
   },
   "file_extension": ".py",
   "mimetype": "text/x-python",
   "name": "python",
   "nbconvert_exporter": "python",
   "pygments_lexer": "ipython3",
   "version": "3.9.13"
  }
 },
 "nbformat": 4,
 "nbformat_minor": 5
}
