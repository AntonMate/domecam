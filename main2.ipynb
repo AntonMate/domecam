{
 "cells": [
  {
   "cell_type": "code",
   "execution_count": null,
   "id": "3ef8ab23",
   "metadata": {},
   "outputs": [
    {
     "name": "stdout",
     "output_type": "stream",
     "text": [
      "20210130l_m2km.fits\n",
      "\n",
      "Collecting data...\n",
      " - Done! time: 2.1929\n",
      " - 6000 pupil images shape: 246x329\n",
      "Collecting bias...\n",
      " - Done! time: 0.3597\n",
      " - bias shape: 246x329\n",
      "Data reduction...\n",
      " - Done! time: 3.1562\n",
      " - pupil shape: 226x226\n",
      "Cross correlating...\n"
     ]
    }
   ],
   "source": [
    "from main import processDomecam\n",
    "\n",
    "file = '20210130l_m2km.fits'\n",
    "file_bias = 'bias20210130.fits'\n",
    "data_dir = 'D:/astro/domecam'\n",
    "\n",
    "processDomecam(file=file, file_bias=file_bias, data_dir=data_dir)"
   ]
  }
 ],
 "metadata": {
  "kernelspec": {
   "display_name": "Python 3 (ipykernel)",
   "language": "python",
   "name": "python3"
  },
  "language_info": {
   "codemirror_mode": {
    "name": "ipython",
    "version": 3
   },
   "file_extension": ".py",
   "mimetype": "text/x-python",
   "name": "python",
   "nbconvert_exporter": "python",
   "pygments_lexer": "ipython3",
   "version": "3.9.13"
  }
 },
 "nbformat": 4,
 "nbformat_minor": 5
}
