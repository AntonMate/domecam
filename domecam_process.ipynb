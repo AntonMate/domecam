{
 "cells": [
  {
   "cell_type": "code",
   "execution_count": null,
   "id": "103f4f3e",
   "metadata": {},
   "outputs": [
    {
     "name": "stdout",
     "output_type": "stream",
     "text": [
      "20210130l_m2km.fits\n",
      "\n",
      "collecting data\n",
      " - time: 2.1133\n",
      " - data shape: 6000x246x329\n",
      "collecting bias\n",
      " - time: 0.3457\n",
      " - bias image shape: 246x329\n",
      "data reduction\n",
      " - time: 6.7529\n",
      " - pupil image shape: 226x226\n",
      "cross correlating\n",
      " - time: 0.1993\n",
      " - cross-corr image shape: 452x452\n",
      "creating auto-corr pupil image\n",
      " - time: 0.0592\n",
      " - auto-corr pupil image shape: 452x452\n",
      "creating gammas\n"
     ]
    }
   ],
   "source": [
    "from main import processDomecam\n",
    "\n",
    "file = '20210130l_m2km.fits'\n",
    "file_bias = 'bias20210130.fits'\n",
    "data_dir = 'D:/astro/domecam'\n",
    "\n",
    "latency = [4] # задержка для кросс-корреляции, [кадр]\n",
    "conjugated_distance = 2 # сопряженное расстояние, [километр]\n",
    "D = 2.5 # диаметр телескопа, [метр]\n",
    "spectrum = 'poly' # тип излучения\n",
    "\n",
    "# для монохроматического излучения, нужно указать длину волны света\n",
    "lambda_ = 650*1e-9 # длина наблюдаемой волны света, [метр]\n",
    "\n",
    "# для полихроматического излучения нужны кривые фильтра, детектора и звезды\n",
    "file_filter = 'KC19_d16t4_Safonov.xls'\n",
    "file_ccd = 'ccd_prosilica2.crv'\n",
    "file_star = 'a05.sp'\n",
    "\n",
    "processDomecam(file=file, file_bias=file_bias, data_dir=data_dir, \n",
    "               D=D, conjugated_distance=conjugated_distance, latency=latency,\n",
    "               spectrum=spectrum, lambda_=lambda_, file_filter=file_filter, file_ccd=file_ccd, file_star=file_star)"
   ]
  }
 ],
 "metadata": {
  "kernelspec": {
   "display_name": "Python 3 (ipykernel)",
   "language": "python",
   "name": "python3"
  },
  "language_info": {
   "codemirror_mode": {
    "name": "ipython",
    "version": 3
   },
   "file_extension": ".py",
   "mimetype": "text/x-python",
   "name": "python",
   "nbconvert_exporter": "python",
   "pygments_lexer": "ipython3",
   "version": "3.9.13"
  }
 },
 "nbformat": 4,
 "nbformat_minor": 5
}
